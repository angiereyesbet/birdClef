{
 "cells": [
  {
   "cell_type": "markdown",
   "metadata": {},
   "source": [
    "### Preprocessing data (remove noisered in audio file and save data)"
   ]
  },
  {
   "cell_type": "markdown",
   "metadata": {},
   "source": [
    "Import the libraries"
   ]
  },
  {
   "cell_type": "code",
   "execution_count": null,
   "metadata": {
    "collapsed": true
   },
   "outputs": [],
   "source": [
    "import os\n",
    "import xml.etree.ElementTree as ET\n",
    "from sklearn.externals import joblib"
   ]
  },
  {
   "cell_type": "markdown",
   "metadata": {},
   "source": [
    "Directories"
   ]
  },
  {
   "cell_type": "code",
   "execution_count": null,
   "metadata": {
    "collapsed": true
   },
   "outputs": [],
   "source": [
    "# Current directory\n",
    "current_directory = os.getcwd()\n",
    "# Directory the metadata are stored\n",
    "xml_path = os.path.join(current_directory, 'data/xml')\n",
    "# Directory the audio files are stored\n",
    "wav_path = os.path.join(current_directory, 'data/wav')"
   ]
  },
  {
   "cell_type": "markdown",
   "metadata": {},
   "source": [
    "Functions"
   ]
  },
  {
   "cell_type": "code",
   "execution_count": null,
   "metadata": {
    "collapsed": true
   },
   "outputs": [],
   "source": [
    "# Fuction for remove noise from audio files\n",
    "def noiseReduction(original_audio):\n",
    "    \n",
    "    response = False\n",
    "    new_audio = None\n",
    "    \n",
    "    # new audio file\n",
    "    new_audio = original_audio.replace('.wav', '_sil.wav')\n",
    "    \n",
    "    if not os.path.isfile(new_audio):\n",
    "        \n",
    "        # remove noise\n",
    "        resp = os.system('sox ' + original_audio + ' ' + new_audio + '.wav noisered speech.noise-profile .5')\n",
    "        \n",
    "        # create new file without silence\n",
    "        resp = os.system('sox ' + original_audio + ' ' + new_audio + ' silence 1 0.1 1% -1 0.1 1%')\n",
    "        \n",
    "        if resp is 0 or os.path.isfile(new_audio):\n",
    "            \n",
    "            response = True\n",
    "    \n",
    "    return response, new_audio"
   ]
  },
  {
   "cell_type": "code",
   "execution_count": null,
   "metadata": {
    "collapsed": true
   },
   "outputs": [],
   "source": [
    "# Function for save in pickle file all metadata\n",
    "def exportMetadata(xml_path, wav_path):\n",
    "    \n",
    "    data = {}\n",
    "    \n",
    "    # for each xml file in path\n",
    "    for xml_file in os.listdir(xml_path):\n",
    "        \n",
    "        if xml_file.endswith(\".xml\"):\n",
    "            \n",
    "            dir_xml = os.path.join(xml_path, xml_file)\n",
    "            dir_wav = os.path.join(wav_path, xml_file.replace('.xml','.wav'))\n",
    "            \n",
    "            # verify if exist wav file of xml file\n",
    "            if os.path.isfile(dir_wav):                \n",
    "                    \n",
    "                tmp_dict_xml = {}\n",
    "                tree = ET.parse(dir_xml)\n",
    "                root = tree.getroot()       \n",
    "                \n",
    "                for child in root:\n",
    "                    tmp_dict_xml[child.tag] = root.find(child.tag).text\n",
    "                \n",
    "                tmp_dict_xml['xmlDir'] = dir_xml\n",
    "                tmp_dict_xml['wavDir'] = dir_wav\n",
    "\n",
    "                response, new_audio = noiseReduction(dir_wav)\n",
    "                \n",
    "                if response is True:\n",
    "                    tmp_dict_xml['silDir'] = new_audio                    \n",
    "                    data[xml_file] = tmp_dict_xml\n",
    "                    \n",
    "    # Dump data with compression\n",
    "    print('Dump data ...')\n",
    "    joblib.dump(data, 'data.gz', compress=('gzip', 3)) \n",
    "    print(\"Files for process:\", len(data))\n",
    "    print(\"Done.\")\n",
    "    \n",
    "    return data"
   ]
  },
  {
   "cell_type": "markdown",
   "metadata": {},
   "source": [
    "Process"
   ]
  },
  {
   "cell_type": "code",
   "execution_count": null,
   "metadata": {},
   "outputs": [],
   "source": [
    "# Main process\n",
    "data = exportMetadata(xml_path, wav_path)"
   ]
  },
  {
   "cell_type": "code",
   "execution_count": null,
   "metadata": {},
   "outputs": [],
   "source": [
    "# Visualization of one example of metadata\n",
    "for key in data:\n",
    "    \n",
    "    metadata = data[key]\n",
    "    \n",
    "    for key_ in metadata:\n",
    "        \n",
    "        print (key_, ':', str(metadata[key_]))\n",
    "        \n",
    "    break"
   ]
  }
 ],
 "metadata": {
  "kernelspec": {
   "display_name": "Python 3",
   "language": "python",
   "name": "python3"
  },
  "language_info": {
   "codemirror_mode": {
    "name": "ipython",
    "version": 3
   },
   "file_extension": ".py",
   "mimetype": "text/x-python",
   "name": "python",
   "nbconvert_exporter": "python",
   "pygments_lexer": "ipython3",
   "version": "3.6.1"
  },
  "widgets": {
   "state": {},
   "version": "1.1.2"
  }
 },
 "nbformat": 4,
 "nbformat_minor": 2
}
