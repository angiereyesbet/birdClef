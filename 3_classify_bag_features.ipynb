{
 "cells": [
  {
   "cell_type": "markdown",
   "metadata": {},
   "source": [
    "### Bag of MFCC-based word and classification"
   ]
  },
  {
   "cell_type": "markdown",
   "metadata": {},
   "source": [
    "Import the libraries"
   ]
  },
  {
   "cell_type": "code",
   "execution_count": null,
   "metadata": {
    "collapsed": true
   },
   "outputs": [],
   "source": [
    "import numpy as np\n",
    "import collections\n",
    "from sklearn.svm import SVC\n",
    "from sklearn.externals import joblib\n",
    "from scipy.spatial.distance import cdist\n",
    "from sklearn.cluster import MiniBatchKMeans\n",
    "from sklearn.model_selection import train_test_split"
   ]
  },
  {
   "cell_type": "markdown",
   "metadata": {},
   "source": [
    "Functions"
   ]
  },
  {
   "cell_type": "code",
   "execution_count": null,
   "metadata": {
    "collapsed": true
   },
   "outputs": [],
   "source": [
    "# Support Vector Machine for classification\n",
    "def classifier(features_train, features_test, labels_train, labels_test):\n",
    "    \n",
    "    clf = SVC(C=2**0, cache_size=300, class_weight=None, coef0=0.0,\n",
    "              decision_function_shape=None, degree=3, gamma='auto', kernel='rbf',\n",
    "              probability=False, random_state=None, shrinking=True,\n",
    "              tol=0.001, verbose=False)\n",
    "    \n",
    "    clf.fit(features_train, labels_train)\n",
    "    \n",
    "    score_test = clf.score(features_test, labels_test)\n",
    "    \n",
    "    return score_test"
   ]
  },
  {
   "cell_type": "code",
   "execution_count": null,
   "metadata": {
    "collapsed": true
   },
   "outputs": [],
   "source": [
    "# Normalize data\n",
    "def normalize(data):\n",
    "    \n",
    "    std_dev = np.std(data, axis=0)\n",
    "    zero_std_mask = std_dev == 0\n",
    "    \n",
    "    if zero_std_mask.any():\n",
    "    \n",
    "        std_dev[zero_std_mask] = 1.0\n",
    "        \n",
    "    result = data / std_dev\n",
    "    \n",
    "    return result, std_dev"
   ]
  },
  {
   "cell_type": "code",
   "execution_count": null,
   "metadata": {
    "collapsed": true
   },
   "outputs": [],
   "source": [
    "# K-Means clustering\n",
    "def k_means(data, k_guess):\n",
    "    \n",
    "    batch_size = 45 \n",
    "    \n",
    "    mbk = MiniBatchKMeans(init='k-means++', n_clusters=k_guess, batch_size=batch_size,\n",
    "                          n_init=10, max_no_improvement=10, verbose=0)\n",
    "    \n",
    "    codebook = mbk.fit(data)\n",
    "    \n",
    "    return codebook.cluster_centers_"
   ]
  },
  {
   "cell_type": "code",
   "execution_count": null,
   "metadata": {
    "collapsed": true
   },
   "outputs": [],
   "source": [
    "# Create histogram\n",
    "def histogram(std_dev, features, codebook, index):    \n",
    "    \n",
    "    histogram_= [0] * index\n",
    "    \n",
    "    distance = cdist(features,  codebook, 'euclidean')\n",
    "    \n",
    "    short = ((np.argsort(distance)).transpose()[0]).tolist()\n",
    "    \n",
    "    counter = dict(collections.Counter(short))\n",
    "    \n",
    "    for key in counter:        \n",
    "        \n",
    "        histogram_[key] = int(counter[key])\n",
    "          \n",
    "    return histogram_"
   ]
  },
  {
   "cell_type": "code",
   "execution_count": null,
   "metadata": {
    "collapsed": true
   },
   "outputs": [],
   "source": [
    "# Bag of features (visual words)\n",
    "def bagOfWords(features, n_clusters):\n",
    "    \n",
    "    features, std_dev = normalize(mfcc)\n",
    "    \n",
    "    codebook = k_means(features, n_clusters)\n",
    "    \n",
    "    histogram_ = histogram(std_dev, features, codebook, n_clusters)\n",
    "    \n",
    "    return histogram_"
   ]
  },
  {
   "cell_type": "code",
   "execution_count": null,
   "metadata": {
    "collapsed": true
   },
   "outputs": [],
   "source": [
    "# Classifier and model evaluation\n",
    "def main(dataset, labels):\n",
    "    \n",
    "    # Split data into two set (training set, test set)\n",
    "    features_train, features_test, labels_train, labels_test = train_test_split(\n",
    "        dataset, labels, test_size=0.3)\n",
    "\n",
    "    print('Train set shape:', np.shape(features_train))\n",
    "    print('Test set shape:', np.shape(features_test))\n",
    "\n",
    "    counter = collections.Counter(labels_train)\n",
    "    counter = dict(counter)\n",
    "\n",
    "    print('Distribution labels (train set):', counter)\n",
    "\n",
    "    counter=collections.Counter(labels_test)\n",
    "    counter = dict(counter)\n",
    "\n",
    "    print('Distribution labels (test set):', counter)\n",
    "\n",
    "    score = classifier(features_train, features_test, labels_train, labels_test)\n",
    "\n",
    "    print('Done!', 'Score:', score)"
   ]
  },
  {
   "cell_type": "markdown",
   "metadata": {},
   "source": [
    "Process"
   ]
  },
  {
   "cell_type": "code",
   "execution_count": null,
   "metadata": {
    "collapsed": true
   },
   "outputs": [],
   "source": [
    "# Read data file\n",
    "data = joblib.load('mfcc_features.gz')"
   ]
  },
  {
   "cell_type": "code",
   "execution_count": null,
   "metadata": {
    "collapsed": true
   },
   "outputs": [],
   "source": [
    "# Extract new features\n",
    "mfcc_data = list()\n",
    "mfcc_cmvn_data = list()\n",
    "mfcc_feature_cube_data = list()\n",
    "labels_data = list()\n",
    "\n",
    "n_clusters = 100\n",
    "\n",
    "for key in data:\n",
    "    \n",
    "    mfcc = data[key]['mfcc']\n",
    "    mfcc_cmvn = data[key]['mfcc_cmvn']\n",
    "    mfcc_feature_cube = data[key]['mfcc_feature_cube']\n",
    "    mfcc_feature_cube = mfcc_feature_cube.reshape((len(mfcc_feature_cube), 39))\n",
    "    \n",
    "    label = data[key]['label'] \n",
    "    \n",
    "    n_clusterster = int ( len(mfcc) / 2) \n",
    "    \n",
    "    mfcc_histogram = bagOfWords(mfcc, n_clusters)\n",
    "    \n",
    "    mfcc_cmvn_histogram = bagOfWords(mfcc_cmvn, n_clusters)\n",
    "    \n",
    "    mfcc_feature_cube_histogram = bagOfWords(mfcc_feature_cube, n_clusters)\n",
    "        \n",
    "    \n",
    "    mfcc_data.append(mfcc_histogram)    \n",
    "    \n",
    "    mfcc_cmvn_data.append(mfcc_cmvn_histogram)    \n",
    "    \n",
    "    mfcc_feature_cube_data.append(mfcc_feature_cube_histogram)\n",
    "    \n",
    "    \n",
    "    labels_data.append(label)"
   ]
  },
  {
   "cell_type": "code",
   "execution_count": null,
   "metadata": {},
   "outputs": [],
   "source": [
    "# Process for mfcc\n",
    "main(mfcc_data, labels_data)\n",
    "\n",
    "print('\\n')\n",
    "\n",
    "# Process for mfcc (mean + variance normalized)\n",
    "main(mfcc_cmvn_data, labels_data)\n",
    "\n",
    "print('\\n')\n",
    "\n",
    "# Process for mfcc (cube)\n",
    "main(mfcc_feature_cube_data, labels_data)"
   ]
  }
 ],
 "metadata": {
  "kernelspec": {
   "display_name": "Python 3",
   "language": "python",
   "name": "python3"
  },
  "language_info": {
   "codemirror_mode": {
    "name": "ipython",
    "version": 3
   },
   "file_extension": ".py",
   "mimetype": "text/x-python",
   "name": "python",
   "nbconvert_exporter": "python",
   "pygments_lexer": "ipython3",
   "version": "3.6.1"
  }
 },
 "nbformat": 4,
 "nbformat_minor": 2
}
