{
 "cells": [
  {
   "cell_type": "markdown",
   "metadata": {},
   "source": [
    "### Global MFCC and classification"
   ]
  },
  {
   "cell_type": "markdown",
   "metadata": {},
   "source": [
    "Import the libraries"
   ]
  },
  {
   "cell_type": "code",
   "execution_count": null,
   "metadata": {
    "collapsed": true
   },
   "outputs": [],
   "source": [
    "import numpy as np\n",
    "import collections\n",
    "from sklearn.svm import SVC\n",
    "from sklearn.externals import joblib\n",
    "from sklearn.model_selection import train_test_split"
   ]
  },
  {
   "cell_type": "markdown",
   "metadata": {},
   "source": [
    "Functions"
   ]
  },
  {
   "cell_type": "code",
   "execution_count": null,
   "metadata": {
    "collapsed": true
   },
   "outputs": [],
   "source": [
    "# Support Vector Machine for classification\n",
    "def classifier(features_train, features_test, labels_train, labels_test):\n",
    "    \n",
    "    clf = SVC(C=2**0, cache_size=300, class_weight=None, coef0=0.0,\n",
    "              decision_function_shape=None, degree=3, gamma='auto', kernel='rbf',\n",
    "              probability=False, random_state=None, shrinking=True,\n",
    "              tol=0.001, verbose=False)\n",
    "    \n",
    "    clf.fit(features_train, labels_train)\n",
    "    \n",
    "    score_test = clf.score(features_test, labels_test)\n",
    "    \n",
    "    return score_test"
   ]
  },
  {
   "cell_type": "code",
   "execution_count": null,
   "metadata": {
    "collapsed": true
   },
   "outputs": [],
   "source": [
    "# Extract global features\n",
    "def globalFeatures(features):\n",
    "    \n",
    "    return features.mean(0)"
   ]
  },
  {
   "cell_type": "code",
   "execution_count": null,
   "metadata": {
    "collapsed": true
   },
   "outputs": [],
   "source": [
    "# Classifier and model evaluation\n",
    "def main(dataset, labels):\n",
    "    \n",
    "    # Split data into two set (training set, test set)\n",
    "    features_train, features_test, labels_train, labels_test = train_test_split(\n",
    "        dataset, labels, test_size=0.3)\n",
    "\n",
    "    print('Train set shape:', np.shape(features_train))\n",
    "    print('Test set shape:', np.shape(features_test))\n",
    "\n",
    "    counter = collections.Counter(labels_train)\n",
    "    counter = dict(counter)\n",
    "\n",
    "    print('Distribution labels (train set):', counter)\n",
    "\n",
    "    counter=collections.Counter(labels_test)\n",
    "    counter = dict(counter)\n",
    "\n",
    "    print('Distribution labels (test set):', counter)\n",
    "\n",
    "    score = classifier(features_train, features_test, labels_train, labels_test)\n",
    "\n",
    "    print('Done!', 'Score:', score)"
   ]
  },
  {
   "cell_type": "markdown",
   "metadata": {},
   "source": [
    "Process"
   ]
  },
  {
   "cell_type": "code",
   "execution_count": null,
   "metadata": {
    "collapsed": true
   },
   "outputs": [],
   "source": [
    "# Read data file\n",
    "data = joblib.load('mfcc_features.gz')"
   ]
  },
  {
   "cell_type": "code",
   "execution_count": null,
   "metadata": {
    "collapsed": true
   },
   "outputs": [],
   "source": [
    "# Extract new features\n",
    "\n",
    "mfcc_data = list()\n",
    "mfcc_cmvn_data = list()\n",
    "mfcc_feature_cube_data = list()\n",
    "labels_data = list()\n",
    "\n",
    "for key in data:\n",
    "    \n",
    "    mfcc = data[key]['mfcc']\n",
    "    mfcc_cmvn = data[key]['mfcc_cmvn']\n",
    "    mfcc_feature_cube = data[key]['mfcc_feature_cube']\n",
    "    mfcc_feature_cube = mfcc_feature_cube.reshape((len(mfcc_feature_cube), 39))\n",
    "    \n",
    "    label = data[key]['label']    \n",
    "    \n",
    "    mfcc_global = globalFeatures(mfcc)\n",
    "    \n",
    "    mfcc_cmvn_global = globalFeatures(mfcc_cmvn)\n",
    "    \n",
    "    mfcc_feature_global = globalFeatures(mfcc_feature_cube)\n",
    "    \n",
    "    \n",
    "    mfcc_data.append(mfcc_global)    \n",
    "    \n",
    "    mfcc_cmvn_data.append(mfcc_cmvn_global)    \n",
    "    \n",
    "    mfcc_feature_cube_data.append(mfcc_feature_global)\n",
    "    \n",
    "    \n",
    "    labels_data.append(label)"
   ]
  },
  {
   "cell_type": "code",
   "execution_count": null,
   "metadata": {},
   "outputs": [],
   "source": [
    "# Process for mfcc\n",
    "main(mfcc_data, labels_data)\n",
    "\n",
    "print('\\n')\n",
    "\n",
    "# Process for mfcc (mean + variance normalized)\n",
    "main(mfcc_cmvn_data, labels_data)\n",
    "\n",
    "print('\\n')\n",
    "\n",
    "# Process for mfcc (cube)\n",
    "main(mfcc_feature_cube_data, labels_data)"
   ]
  },
  {
   "cell_type": "code",
   "execution_count": null,
   "metadata": {
    "collapsed": true
   },
   "outputs": [],
   "source": []
  }
 ],
 "metadata": {
  "kernelspec": {
   "display_name": "Python 3",
   "language": "python",
   "name": "python3"
  },
  "language_info": {
   "codemirror_mode": {
    "name": "ipython",
    "version": 3
   },
   "file_extension": ".py",
   "mimetype": "text/x-python",
   "name": "python",
   "nbconvert_exporter": "python",
   "pygments_lexer": "ipython3",
   "version": "3.6.1"
  }
 },
 "nbformat": 4,
 "nbformat_minor": 2
}
