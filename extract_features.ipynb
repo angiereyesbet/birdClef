{
 "cells": [
  {
   "cell_type": "markdown",
   "metadata": {},
   "source": [
    "### Script para extraer las caracteristicas de cada audio"
   ]
  },
  {
   "cell_type": "markdown",
   "metadata": {},
   "source": [
    "Import the libraries"
   ]
  },
  {
   "cell_type": "code",
   "execution_count": 37,
   "metadata": {
    "collapsed": true
   },
   "outputs": [],
   "source": [
    "import os\n",
    "import gzip\n",
    "import math\n",
    "import pickle\n",
    "import warnings\n",
    "import numpy as np\n",
    "import scipy.io.wavfile as wav\n",
    "from python_speech_features import mfcc\n",
    "from python_speech_features import delta\n",
    "from python_speech_features import fbank\n",
    "from python_speech_features import logfbank\n",
    "\n",
    "# # install packages:\n",
    "# sudo apt install sox\n",
    "# pip install python_speech_features"
   ]
  },
  {
   "cell_type": "markdown",
   "metadata": {},
   "source": [
    "Functions"
   ]
  },
  {
   "cell_type": "code",
   "execution_count": 38,
   "metadata": {
    "collapsed": true
   },
   "outputs": [],
   "source": [
    "# function for extract mfcc features \n",
    "def extractFeatures(rate, signal):\n",
    "    bank,energy = fbank(signal,rate,winlen=0.025,winstep=0.01,\n",
    "                        nfilt=26,nfft=512,lowfreq=0,highfreq=None,preemph=0.97)\n",
    "    features_mfcc = mfcc(signal,rate,winlen=0.0116,winstep=0.039,numcep=16,\n",
    "                         nfilt=26,nfft=512,lowfreq=0,highfreq=None,preemph=0.97,ceplifter=22,appendEnergy=True)\n",
    "        \n",
    "    return features_mfcc"
   ]
  },
  {
   "cell_type": "code",
   "execution_count": 39,
   "metadata": {
    "collapsed": true
   },
   "outputs": [],
   "source": [
    "# function for downsampling wav recordings from 44kHz to 16kHz\n",
    "def downsampling(wav_file, new_rate):\n",
    "    state = True\n",
    "    \n",
    "    try:\n",
    "        rate,signal = wav.read(wav_file)        \n",
    "        factor = math.floor(rate/new_rate)        \n",
    "        new_rate = rate/factor        \n",
    "        indices = range(0, signal.size, factor)        \n",
    "        signal = signal[indices]\n",
    "        \n",
    "    except Exception as e:\n",
    "        state = False\n",
    "    \n",
    "    return (state, new_rate, signal)"
   ]
  },
  {
   "cell_type": "code",
   "execution_count": 40,
   "metadata": {
    "collapsed": true
   },
   "outputs": [],
   "source": [
    "def splitAudio(rate, signal, window, min_step):\n",
    "\n",
    "    step = 0    \n",
    "    result = list()    \n",
    "    duration =  len(signal)/rate                \n",
    "    max_duration = len(signal)\n",
    "    \n",
    "    while( ( (window+step) * rate) <= max_duration ):        \n",
    "        from_ = int(step * rate)\n",
    "        to_ = int( (window+step) * rate )\n",
    "        step += min_step\n",
    "        segment = signal[from_:to_]\n",
    "        result.append(segment)\n",
    "        \n",
    "    return result  "
   ]
  },
  {
   "cell_type": "code",
   "execution_count": 41,
   "metadata": {},
   "outputs": [],
   "source": [
    "# function for process audio file\n",
    "def process_audio(audio_path):\n",
    "    \n",
    "    result = True\n",
    "    \n",
    "    clip_features = list()\n",
    "    mean_features = list()\n",
    "    \n",
    "    if os.path.isfile(audio_path):        \n",
    "        (state, rate, signal) = downsampling(new_audio_path, 16000)\n",
    "        \n",
    "    if state is True:\n",
    "        \n",
    "        window = 5\n",
    "        min_step = 1\n",
    "        \n",
    "        # split the audio on 5 seconds segments\n",
    "        audio_segments = splitAudio(rate, signal, window, min_step)\n",
    "        \n",
    "        if audio_segments:           \n",
    "            # for each segment of audio\n",
    "            for audio_segment in audio_segments:\n",
    "            # extract mfcc features\n",
    "                features = np.array(extractFeatures(rate, audio_segment))\n",
    "                features = np.asarray(features).reshape(-1)\n",
    "                clip_features.append(features)\n",
    "        else: \n",
    "            result = False\n",
    "            \n",
    "    else:        \n",
    "        print( 'Error when processing the file:', new_audio_path)\n",
    "        result = False\n",
    "    \n",
    "    clip_features = np.array(clip_features)\n",
    "    \n",
    "    with warnings.catch_warnings():\n",
    "        warnings.simplefilter(\"ignore\", category=RuntimeWarning)\n",
    "        mean_features = np.mean(clip_features, axis=0)\n",
    "        \n",
    "    return result, clip_features, mean_features"
   ]
  },
  {
   "cell_type": "code",
   "execution_count": 42,
   "metadata": {
    "collapsed": true
   },
   "outputs": [],
   "source": [
    "# Main function \n",
    "def main():\n",
    "    \n",
    "    # read features file\n",
    "    data = pickle.load(gzip.open('data.pickle.gz', 'rb'), encoding='latin1')\n",
    "\n",
    "    item = 1\n",
    "    species = {}\n",
    "    data_features = {}\n",
    "\n",
    "    for key in data:\n",
    "        \n",
    "        #try:\n",
    "        \n",
    "        audio_path = data[key]['silDir']\n",
    "        class_id = data[key]['ClassId']\n",
    "\n",
    "        if class_id in species:\n",
    "            specie_id = species[class_id]\n",
    "        else:\n",
    "            species[class_id] = item\n",
    "            specie_id = item\n",
    "            item+=1\n",
    "\n",
    "        result, clip_features, mean_features = process_audio(audio_path)\n",
    "\n",
    "        if result is True:\n",
    "            data_tmp = {}\n",
    "            data_tmp['clip_features'] = clip_features\n",
    "            data_tmp['mean_features'] = mean_features\n",
    "            data_tmp['label'] = specie_id\n",
    "            data_features[key] = data_tmp\n",
    "            \n",
    "        #except:\n",
    "        #    print( 'Error when processing the file:', key)\n",
    "\n",
    "    with gzip.open('features.pickle.gz', 'wb') as f:\n",
    "        pickle.dump((data_features), f, protocol = 2)\n",
    "    print(\"Done.\") "
   ]
  },
  {
   "cell_type": "code",
   "execution_count": 43,
   "metadata": {},
   "outputs": [
    {
     "ename": "NameError",
     "evalue": "name 'new_audio_path' is not defined",
     "output_type": "error",
     "traceback": [
      "\u001b[0;31m---------------------------------------------------------------------------\u001b[0m",
      "\u001b[0;31mNameError\u001b[0m                                 Traceback (most recent call last)",
      "\u001b[0;32m<ipython-input-43-58ca95c5b364>\u001b[0m in \u001b[0;36m<module>\u001b[0;34m()\u001b[0m\n\u001b[0;32m----> 1\u001b[0;31m \u001b[0mmain\u001b[0m\u001b[0;34m(\u001b[0m\u001b[0;34m)\u001b[0m\u001b[0;34m\u001b[0m\u001b[0m\n\u001b[0m",
      "\u001b[0;32m<ipython-input-42-fabbbd95f8c3>\u001b[0m in \u001b[0;36mmain\u001b[0;34m()\u001b[0m\n\u001b[1;32m     23\u001b[0m             \u001b[0mitem\u001b[0m\u001b[0;34m+=\u001b[0m\u001b[0;36m1\u001b[0m\u001b[0;34m\u001b[0m\u001b[0m\n\u001b[1;32m     24\u001b[0m \u001b[0;34m\u001b[0m\u001b[0m\n\u001b[0;32m---> 25\u001b[0;31m         \u001b[0mresult\u001b[0m\u001b[0;34m,\u001b[0m \u001b[0mclip_features\u001b[0m\u001b[0;34m,\u001b[0m \u001b[0mmean_features\u001b[0m \u001b[0;34m=\u001b[0m \u001b[0mprocess_audio\u001b[0m\u001b[0;34m(\u001b[0m\u001b[0maudio_path\u001b[0m\u001b[0;34m)\u001b[0m\u001b[0;34m\u001b[0m\u001b[0m\n\u001b[0m\u001b[1;32m     26\u001b[0m \u001b[0;34m\u001b[0m\u001b[0m\n\u001b[1;32m     27\u001b[0m         \u001b[0;32mif\u001b[0m \u001b[0mresult\u001b[0m \u001b[0;32mis\u001b[0m \u001b[0;32mTrue\u001b[0m\u001b[0;34m:\u001b[0m\u001b[0;34m\u001b[0m\u001b[0m\n",
      "\u001b[0;32m<ipython-input-41-0bd260fff80c>\u001b[0m in \u001b[0;36mprocess_audio\u001b[0;34m(audio_path)\u001b[0m\n\u001b[1;32m      8\u001b[0m \u001b[0;34m\u001b[0m\u001b[0m\n\u001b[1;32m      9\u001b[0m     \u001b[0;32mif\u001b[0m \u001b[0mos\u001b[0m\u001b[0;34m.\u001b[0m\u001b[0mpath\u001b[0m\u001b[0;34m.\u001b[0m\u001b[0misfile\u001b[0m\u001b[0;34m(\u001b[0m\u001b[0maudio_path\u001b[0m\u001b[0;34m)\u001b[0m\u001b[0;34m:\u001b[0m\u001b[0;34m\u001b[0m\u001b[0m\n\u001b[0;32m---> 10\u001b[0;31m         \u001b[0;34m(\u001b[0m\u001b[0mstate\u001b[0m\u001b[0;34m,\u001b[0m \u001b[0mrate\u001b[0m\u001b[0;34m,\u001b[0m \u001b[0msignal\u001b[0m\u001b[0;34m)\u001b[0m \u001b[0;34m=\u001b[0m \u001b[0mdownsampling\u001b[0m\u001b[0;34m(\u001b[0m\u001b[0mnew_audio_path\u001b[0m\u001b[0;34m,\u001b[0m \u001b[0;36m16000\u001b[0m\u001b[0;34m)\u001b[0m\u001b[0;34m\u001b[0m\u001b[0m\n\u001b[0m\u001b[1;32m     11\u001b[0m \u001b[0;34m\u001b[0m\u001b[0m\n\u001b[1;32m     12\u001b[0m     \u001b[0;32mif\u001b[0m \u001b[0mstate\u001b[0m \u001b[0;32mis\u001b[0m \u001b[0;32mTrue\u001b[0m\u001b[0;34m:\u001b[0m\u001b[0;34m\u001b[0m\u001b[0m\n",
      "\u001b[0;31mNameError\u001b[0m: name 'new_audio_path' is not defined"
     ]
    }
   ],
   "source": [
    "main()"
   ]
  },
  {
   "cell_type": "code",
   "execution_count": null,
   "metadata": {
    "collapsed": true
   },
   "outputs": [],
   "source": [
    "# read features file\n",
    "data = pickle.load(gzip.open('data.pickle.gz', 'rb'), encoding='latin1')\n",
    "\n",
    "data_features = {}\n",
    "\n",
    "for key in dataset:\n",
    "    audio_path = dataset[key]['wavDir']\n",
    "    id_specie = dataset[key]['MediaId']\n",
    "    result, clip_features, mean_features = process_audio(dir_audio)\n",
    "\n",
    "    if result is True:\n",
    "        data = {}\n",
    "        data['clip_features'] = clip_features\n",
    "        data['mean_features'] = mean_features\n",
    "        data['label'] = id_specie\n",
    "        data_features[key] = data\n",
    "\n",
    "with gzip.open('features_colombia.pickle.gz', 'wb') as f:\n",
    "    pickle.dump((data_features), f, protocol = 2)\n",
    "print(\"Done.\") "
   ]
  },
  {
   "cell_type": "code",
   "execution_count": null,
   "metadata": {
    "collapsed": true
   },
   "outputs": [],
   "source": []
  }
 ],
 "metadata": {
  "kernelspec": {
   "display_name": "Python 3",
   "language": "python",
   "name": "python3"
  },
  "language_info": {
   "codemirror_mode": {
    "name": "ipython",
    "version": 3
   },
   "file_extension": ".py",
   "mimetype": "text/x-python",
   "name": "python",
   "nbconvert_exporter": "python",
   "pygments_lexer": "ipython3",
   "version": "3.6.1"
  },
  "widgets": {
   "state": {},
   "version": "1.1.2"
  }
 },
 "nbformat": 4,
 "nbformat_minor": 2
}
