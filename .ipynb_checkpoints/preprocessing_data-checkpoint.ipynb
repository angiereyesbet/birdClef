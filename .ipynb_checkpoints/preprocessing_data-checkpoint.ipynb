{
 "cells": [
  {
   "cell_type": "markdown",
   "metadata": {},
   "source": [
    "### Script para exportar la información del metadata a formato pickle y eliminar el silencio en los audios"
   ]
  },
  {
   "cell_type": "markdown",
   "metadata": {},
   "source": [
    "Import the libraries"
   ]
  },
  {
   "cell_type": "code",
   "execution_count": 24,
   "metadata": {
    "collapsed": true
   },
   "outputs": [],
   "source": [
    "import os\n",
    "import json\n",
    "import gzip\n",
    "import pickle\n",
    "import collections\n",
    "import xml.etree.ElementTree as ET"
   ]
  },
  {
   "cell_type": "markdown",
   "metadata": {},
   "source": [
    "Directories"
   ]
  },
  {
   "cell_type": "code",
   "execution_count": 25,
   "metadata": {
    "collapsed": true
   },
   "outputs": [],
   "source": [
    "current_directory = os.getcwd()\n",
    "xml_path = os.path.join(current_directory, 'data/xml')\n",
    "wav_path = os.path.join(current_directory, 'data/wav')"
   ]
  },
  {
   "cell_type": "markdown",
   "metadata": {},
   "source": [
    "Functions"
   ]
  },
  {
   "cell_type": "code",
   "execution_count": 26,
   "metadata": {
    "collapsed": true
   },
   "outputs": [],
   "source": [
    "def removeSilence(original_audio):\n",
    "    \n",
    "    response = False\n",
    "    new_audio = None\n",
    "    \n",
    "    # new file\n",
    "    new_audio = original_audio.replace('.wav', '_sil.wav')\n",
    "    \n",
    "    if not os.path.isfile(new_audio):\n",
    "        \n",
    "        # create new file without silence\n",
    "        resp = os.system( 'sox ' + original_audio + ' ' + new_audio + ' silence 1 0.1 1% -1 0.1 1%' )\n",
    "        \n",
    "        if resp is 0 or os.path.isfile(new_audio):\n",
    "            response = True\n",
    "    \n",
    "    return response, new_audio"
   ]
  },
  {
   "cell_type": "code",
   "execution_count": 27,
   "metadata": {
    "collapsed": true
   },
   "outputs": [],
   "source": [
    "# function for save in pickle file all metadata\n",
    "def exportMetadata(xml_path, wav_path):\n",
    "    \n",
    "    data = {}\n",
    "    \n",
    "    # for each xml file in path\n",
    "    for xml_file in os.listdir(xml_path):\n",
    "        if xml_file.endswith(\".xml\"):\n",
    "            dir_xml = os.path.join(xml_path, xml_file)\n",
    "            dir_wav = os.path.join(wav_path, xml_file.replace('.xml','.wav'))\n",
    "            \n",
    "            # verify if exist wav file of xml file\n",
    "            if os.path.isfile(dir_wav):                \n",
    "                    \n",
    "                tmp_dict_xml = {}\n",
    "                tree = ET.parse(dir_xml)\n",
    "                root = tree.getroot()       \n",
    "                \n",
    "                for child in root:\n",
    "                    tmp_dict_xml[child.tag] = root.find(child.tag).text\n",
    "                \n",
    "                tmp_dict_xml['xmlDir'] = dir_xml\n",
    "                tmp_dict_xml['wavDir'] = dir_wav\n",
    "\n",
    "                response, new_audio = removeSilence(dir_wav)\n",
    "                if response is True:\n",
    "                    tmp_dict_xml['silDir'] = new_audio\n",
    "                    \n",
    "                data[xml_file] = tmp_dict_xml\n",
    "    \n",
    "    # save pickle file\n",
    "    with gzip.open('data.pickle.gz', 'wb') as f:\n",
    "        pickle.dump((data), f, protocol = 2)\n",
    "    \n",
    "    print(\"Files for process:\", len(data))\n",
    "    print(\"Done.\")\n",
    "    \n",
    "    return data"
   ]
  },
  {
   "cell_type": "code",
   "execution_count": 28,
   "metadata": {},
   "outputs": [
    {
     "name": "stdout",
     "output_type": "stream",
     "text": [
      "Files for process: 350\n",
      "Done.\n"
     ]
    }
   ],
   "source": [
    "data = exportMetadata(xml_path, wav_path)"
   ]
  },
  {
   "cell_type": "code",
   "execution_count": 29,
   "metadata": {},
   "outputs": [
    {
     "name": "stdout",
     "output_type": "stream",
     "text": [
      "MediaId : 19274\n",
      "FileName : LIFECLEF2015_BIRDAMAZON_XC_WAV_RN19274.wav\n",
      "ClassId : lzezgo\n",
      "Date : 2009-08-08\n",
      "Time : 10:00\n",
      "Locality : Parque Natural Chicaque\n",
      "Latitude : 4.611331\n",
      "Longitude : -74.3153\n",
      "Elevation : 2200\n",
      "Author : Oswaldo Cortes\n",
      "AuthorID : VVDRVZCVWW\n",
      "Content : call\n",
      "Comments : None\n",
      "Quality : 3\n",
      "Year : BirdCLEF2015\n",
      "BackgroundSpecies : None\n",
      "Order : Passeriformes\n",
      "Family : Rhinocryptidae\n",
      "Genus : Scytalopus\n",
      "Species : latrans\n",
      "Sub-species : None\n",
      "VernacularNames : Blackish Tapaculo\n",
      "xmlDir : /home/bigdata/Documentos/birdPycon2018/data/xml/LIFECLEF2015_BIRDAMAZON_XC_WAV_RN19274.xml\n",
      "wavDir : /home/bigdata/Documentos/birdPycon2018/data/wav/LIFECLEF2015_BIRDAMAZON_XC_WAV_RN19274.wav\n"
     ]
    }
   ],
   "source": [
    "# one example of metadata\n",
    "for key in data:\n",
    "    metadata = data[key]\n",
    "    for key_ in metadata:\n",
    "        print (key_, ':', str(metadata[key_]))\n",
    "    break"
   ]
  },
  {
   "cell_type": "code",
   "execution_count": null,
   "metadata": {
    "collapsed": true
   },
   "outputs": [],
   "source": []
  }
 ],
 "metadata": {
  "kernelspec": {
   "display_name": "Python 3",
   "language": "python",
   "name": "python3"
  },
  "language_info": {
   "codemirror_mode": {
    "name": "ipython",
    "version": 3
   },
   "file_extension": ".py",
   "mimetype": "text/x-python",
   "name": "python",
   "nbconvert_exporter": "python",
   "pygments_lexer": "ipython3",
   "version": "3.6.1"
  },
  "widgets": {
   "state": {},
   "version": "1.1.2"
  }
 },
 "nbformat": 4,
 "nbformat_minor": 2
}
