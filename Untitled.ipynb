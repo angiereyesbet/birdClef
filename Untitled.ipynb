{
 "cells": [
  {
   "cell_type": "code",
   "execution_count": 13,
   "metadata": {
    "collapsed": true
   },
   "outputs": [],
   "source": [
    "import os\n",
    "import numpy as np"
   ]
  },
  {
   "cell_type": "code",
   "execution_count": 18,
   "metadata": {},
   "outputs": [],
   "source": [
    "text_file = '/home/bigdata/Escritorio/colombia_4_clases.txt'\n",
    "text_file = open(text_file, \"r\")\n",
    "lines = text_file.read().split('\\n')\n",
    "xml_origin_path = '/home/bigdata/Documentos/BIRD2017/TrainingSet/xml/colombia/'\n",
    "xml_end_path = '/home/bigdata/Documentos/birdPycon2018/data/xml/'\n",
    "wav_origin_path = '/home/bigdata/Documentos/BIRD2017/TrainingSet/wav/colombia/'\n",
    "wav_end_path = '/home/bigdata/Documentos/birdPycon2018/data/wav/'"
   ]
  },
  {
   "cell_type": "code",
   "execution_count": 25,
   "metadata": {},
   "outputs": [],
   "source": [
    "for file in lines:\n",
    "    xml_file = xml_origin_path + file\n",
    "    wav_file = wav_origin_path + file.replace('.xml', '.wav')\n",
    "    os.system('cp ' + xml_file + ' ' + xml_end_path)\n",
    "    os.system('cp ' + wav_file + ' ' + wav_end_path)"
   ]
  },
  {
   "cell_type": "code",
   "execution_count": null,
   "metadata": {
    "collapsed": true
   },
   "outputs": [],
   "source": []
  }
 ],
 "metadata": {
  "kernelspec": {
   "display_name": "Python 3",
   "language": "python",
   "name": "python3"
  },
  "language_info": {
   "codemirror_mode": {
    "name": "ipython",
    "version": 3
   },
   "file_extension": ".py",
   "mimetype": "text/x-python",
   "name": "python",
   "nbconvert_exporter": "python",
   "pygments_lexer": "ipython3",
   "version": "3.6.1"
  }
 },
 "nbformat": 4,
 "nbformat_minor": 2
}
