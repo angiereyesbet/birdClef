{
 "cells": [
  {
   "cell_type": "markdown",
   "metadata": {},
   "source": [
    "### Extract mfcc features and save data"
   ]
  },
  {
   "cell_type": "markdown",
   "metadata": {},
   "source": [
    "Import the libraries"
   ]
  },
  {
   "cell_type": "code",
   "execution_count": null,
   "metadata": {
    "collapsed": true
   },
   "outputs": [],
   "source": [
    "import os\n",
    "import speechpy\n",
    "import numpy as np\n",
    "import scipy.io.wavfile as wav\n",
    "from sklearn.externals import joblib\n",
    "from python_speech_features import mfcc\n",
    "from python_speech_features import delta\n",
    "from python_speech_features import fbank\n",
    "from python_speech_features import logfbank"
   ]
  },
  {
   "cell_type": "markdown",
   "metadata": {},
   "source": [
    "Functions"
   ]
  },
  {
   "cell_type": "code",
   "execution_count": null,
   "metadata": {
    "collapsed": true
   },
   "outputs": [],
   "source": [
    "# function for extract mfcc features\n",
    "def extractFeatures(audio_path):\n",
    "    \n",
    "    mfcc = None\n",
    "    mfcc_cmvn = None\n",
    "    mfcc_feature_cube = None\n",
    "    \n",
    "    result = True\n",
    "    \n",
    "    # verify if exist audio file\n",
    "    if os.path.isfile(audio_path):      \n",
    "        \n",
    "        fs, signal = wav.read(audio_path)\n",
    "        \n",
    "        try:\n",
    "            \n",
    "            # mfcc features\n",
    "            mfcc = speechpy.feature.mfcc(signal, sampling_frequency=fs, frame_length=0.020, frame_stride=0.01,\n",
    "                                         num_filters=40, fft_length=512, low_frequency=0, high_frequency=None)\n",
    "            \n",
    "            # mfcc(mean + variance normalized) features\n",
    "            mfcc_cmvn = speechpy.processing.cmvnw(mfcc, win_size=301, variance_normalization=True)\n",
    "            \n",
    "            # mfcc feature cube\n",
    "            mfcc_feature_cube = speechpy.feature.extract_derivative_feature(mfcc)\n",
    "            \n",
    "        except:\n",
    "            \n",
    "            result = False\n",
    "            \n",
    "    return result, mfcc, mfcc_cmvn, mfcc_feature_cube"
   ]
  },
  {
   "cell_type": "markdown",
   "metadata": {},
   "source": [
    "Process"
   ]
  },
  {
   "cell_type": "code",
   "execution_count": null,
   "metadata": {
    "collapsed": true
   },
   "outputs": [],
   "source": [
    "# read metadata file\n",
    "data = joblib.load('data.gz')"
   ]
  },
  {
   "cell_type": "code",
   "execution_count": null,
   "metadata": {
    "collapsed": true
   },
   "outputs": [],
   "source": [
    "# Main process\n",
    "item = 1\n",
    "species = {}\n",
    "data_features = {}\n",
    "\n",
    "for key in data:\n",
    "\n",
    "    audio_path = data[key]['silDir']\n",
    "\n",
    "    class_id = data[key]['ClassId']\n",
    "\n",
    "    # process for specie ID\n",
    "    if class_id in species:\n",
    "        \n",
    "        specie_id = species[class_id]\n",
    "        \n",
    "    else:\n",
    "        \n",
    "        item+=1\n",
    "        specie_id = item\n",
    "        species[class_id] = item\n",
    "\n",
    "    # process for extract features\n",
    "    result, mfcc, mfcc_cmvn, mfcc_feature_cube = extractFeatures(audio_path)\n",
    "    \n",
    "    if result is True:\n",
    "        \n",
    "        data_tmp = {}\n",
    "        \n",
    "        data_tmp['mfcc'] = mfcc\n",
    "        data_tmp['mfcc_cmvn'] = mfcc_cmvn\n",
    "        data_tmp['mfcc_feature_cube'] = mfcc_feature_cube\n",
    "        data_tmp['label'] = specie_id\n",
    "        \n",
    "        data_features[key] = data_tmp"
   ]
  },
  {
   "cell_type": "code",
   "execution_count": null,
   "metadata": {},
   "outputs": [],
   "source": [
    "# Dump data with compression\n",
    "print('Dump data...')\n",
    "joblib.dump(data_features, 'mfcc_features.gz', compress=('gzip', 3)) \n",
    "print(\"Files for process:\", len(data_features))\n",
    "print(\"Done.\")"
   ]
  }
 ],
 "metadata": {
  "kernelspec": {
   "display_name": "Python 3",
   "language": "python",
   "name": "python3"
  },
  "language_info": {
   "codemirror_mode": {
    "name": "ipython",
    "version": 3
   },
   "file_extension": ".py",
   "mimetype": "text/x-python",
   "name": "python",
   "nbconvert_exporter": "python",
   "pygments_lexer": "ipython3",
   "version": "3.6.1"
  },
  "widgets": {
   "state": {},
   "version": "1.1.2"
  }
 },
 "nbformat": 4,
 "nbformat_minor": 2
}
